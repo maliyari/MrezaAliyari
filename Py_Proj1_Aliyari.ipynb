{
 "cells": [
  {
   "cell_type": "markdown",
   "metadata": {
    "id": "xq__bChjD04e"
   },
   "source": [
    "# Python Assignment 1"
   ]
  },
  {
   "cell_type": "markdown",
   "source": [
    "⏱⏱⏱**Due: 10/03/2023 11:59 PM** ⏱⏱⏱\n",
    "\n",
    "Submit this notebook file and upload it to your git repo. Include a link to your git repo while submitting this file to Brightspace.\n",
    "\n",
    "You are not allowed to use chatgpt or any LLM in this assignment.\n",
    "Cooperation is allowed and encouraged; however, you must write up and submit your own work. If you cooperate with others, you must list their names here."
   ],
   "metadata": {
    "id": "y7j2V0UDMYLG"
   }
  },
  {
   "cell_type": "markdown",
   "metadata": {
    "id": "SUS30Ew9D04n"
   },
   "source": [
    "(100 points total)"
   ]
  },
  {
   "cell_type": "markdown",
   "source": [
    "## 0. Data Types, Structures, Indexing, and Slicing"
   ],
   "metadata": {
    "id": "b_bgT3b2GYTB"
   }
  },
  {
   "cell_type": "markdown",
   "source": [
    "Read the lecutre note as well as [this page](https://www.geeksforgeeks.org/mutable-vs-immutable-objects-in-python/) and [this page](https://www.geeksforgeeks.org/difference-between-shallow-and-deep-copy-of-a-class/). Complete the following questions.\n",
    "\n",
    "(5 points) Give some examples (at least 2) of mutable objects in Python.\n",
    "\n",
    "***Answer:***\n",
    "class Student_Information:\n",
    "    def __init__(self, email_address, phone_number, department):\n",
    "        self.email_address = email_address\n",
    "        self.phone_number = phone_number\n",
    "        self.department = department\n",
    "\n",
    "# Creating a Student_Information object\n",
    "student = Student_Information(\"mr.aliyari1020@gmail.com\", \"009378502919\", \"Civil Engineering\")\n",
    "print(f\"Initial Information: {student.email_address, student.phone_number, student.department}\")\n",
    "# Updating the Information\n",
    "student.department = \"Coastal Engineering\"\n",
    "student.email_address = \"mohammadreza.aliyari@stonybrook.edu\"\n",
    "student.phone_number = \"+9344519854\"\n",
    "print(f\"Updated Information: {student.email_address, student.phone_number, student.department}\")\n",
    "\n",
    "\n",
    "---\n",
    "\n",
    "\n",
    "\n",
    "(5 points) Give some examples (at least 2) of immutable objects in Python.\n",
    "\n",
    "***Answer:***\n",
    "import numpy as np\n",
    "# My original data\n",
    "wave_period = np.array([4, 6, 3, 1, 5, 2, 3])\n",
    "# Updating the data\n",
    "wave_period[2] = 1\n",
    "wave_period[6] = 4\n",
    "wave_period[0] = 3\n",
    "print(wave_period)\n",
    "\n",
    "\n",
    "---\n",
    "\n",
    "\n",
    "\n",
    "(10 points) State the differences between assignment, shallow copy, and deep copy. Any reasonable answer will get full credit.\n",
    "\n",
    "***Answer:***\n",
    "\n",
    "Assignment:\n",
    "It serves as a straightforward and memory-conserving approach for generating a copy when we want two references to identical data\n",
    "It entails establishing a new reference to an already-existing object\n",
    "Both the initial object and the copy point the identical memory location\n",
    "If we change one object, it will impact the other since they essentially represent the identical objet\n",
    "For instance:\n",
    "My_original_wave_periods = [1, 4, 2, 3]\n",
    "# Assignment\n",
    "copied_wave_periods = My_original_wave_periods \n",
    "\n",
    "Shallow copy:\n",
    "It produces a new object that mimics the structure of the original object at the top level. However, it doesn't duplicate the objects nested within the original. Instead, it shares references to these nested objects between the original and the copy. Consequently, modifications made to nested objects within the original can influence the copy, and vice versa\n",
    "For example:\n",
    "import copy\n",
    "My_original_wave_periods = [1, 4, [2, 3]]\n",
    "# Shallow copy\n",
    "shallow_copied_wave_periods = copy.copy(My_original_wave_periods)\n",
    "\n",
    "Deep copy:\n",
    "It goes further by producing a fully independent duplicate of the original object, including all objects nested inside it. It replicates both the top-level object and all its nested components, doing so recursively. Importantly, any changes made to the original or its nested objects have no impact on the deep copy, and vice versa. In essence, they become entirely separate objects with no shared references.\n",
    "For instance:\n",
    "My_original_wave_periods = [1, 4, [2, 3]]\n",
    "# Deep copy\n",
    "deep_copied_wave_periods = copy.deepcopy(My_original_wave_periods)\n",
    "\n",
    "In summary, assignment creates a reference to the same object, shallow copy creates a new object with shared references to nested objects, and deep copy creates a new object with copies of all nested objects, ensuring complete independence between the original and the copy\n",
    "\n",
    "\n",
    "\n",
    "\n",
    "\n",
    "\n",
    "---\n",
    "\n",
    "\n",
    "\n"
   ],
   "metadata": {
    "id": "6yI1Jt57IwV2"
   }
  },
  {
   "cell_type": "markdown",
   "source": [
    "(10 points) Using string methods find() and rfind(), find the index of the first digit (i.e. 0) and the index of the last digit (5) in the string below. Then, using string slicing, extract the number (i.e. 0.595595) from this string and convert the extracted value to a floating point number. Print out this float to the console."
   ],
   "metadata": {
    "id": "OA8DxcrrGqZD"
   }
  },
  {
   "cell_type": "code",
   "source": [
    "text = \"F-DGFDDSFGFD-CFDSHdstgfdfe: tfsd  aaa bdsf 0.595595 fdsgfdbc\"\n",
    "# Find the index of the first digit (0)\n",
    "first_digit_index = text.find('0')\n",
    "\n",
    "# Find the index of the last digit (5)\n",
    "last_digit_index = text.rfind('5')\n",
    "\n",
    "# Extract the number employing string slicing\n",
    "extracted_number = text[first_digit_index:last_digit_index + 1]\n",
    "\n",
    "# Convert the extracted value to a floating-point number\n",
    "float_number = float(extracted_number)\n",
    "\n",
    "# Print the floating-point number\n",
    "print(float_number)\n",
    "\n",
    "\n",
    "\n",
    "\n",
    "\n",
    "\n"
   ],
   "metadata": {
    "id": "AUuFXXWqG4D3"
   },
   "execution_count": null,
   "outputs": []
  },
  {
   "cell_type": "markdown",
   "metadata": {
    "id": "cnCljYgpD04p"
   },
   "source": [
    "## 1. Conditional Statements\n",
    "\n",
    "(10 points)\n",
    "Translate the following MATLAB code into Python using `if-elif-else`.\n",
    "```\n",
    "n = input('Enter a number: ');\n",
    "\n",
    "switch n\n",
    "    case -1\n",
    "        disp('negative one')\n",
    "    case 0\n",
    "        disp('zero')\n",
    "    case 1\n",
    "        disp('positive one')\n",
    "    otherwise\n",
    "        disp('other value')\n",
    "end\n",
    "```"
   ]
  },
  {
   "cell_type": "code",
   "execution_count": null,
   "metadata": {
    "collapsed": true,
    "id": "9d8vl5zjD04q"
   },
   "outputs": [],
   "source": [
    "n = float(input(\"Enter a number: \"))\n",
    "if n == -1:\n",
    "    print(\"negative one\")\n",
    "elif n == 0:\n",
    "    print(\"zero\")\n",
    "elif n == 1:\n",
    "    print(\"positive one\")\n",
    "else:\n",
    "    print(\"other value\")"
   ]
  },
  {
   "cell_type": "markdown",
   "metadata": {
    "id": "sW9XiUPpD04s"
   },
   "source": [
    "## 2. While Loops\n",
    "\n",
    "(10 points) Write a Python program that calculates the factorial of a given number (you can assume an positive integer) using a while loop. Display the result to the console."
   ]
  },
  {
   "cell_type": "code",
   "execution_count": null,
   "metadata": {
    "collapsed": true,
    "id": "CRCERx8uD04t",
    "colab": {
     "base_uri": "https://localhost:8080/"
    },
    "outputId": "1870b9d1-fe04-4ae7-e5ec-08ce640ce72e"
   },
   "outputs": [
    {
     "output_type": "stream",
     "name": "stdout",
     "text": [
      "24\n"
     ]
    }
   ],
   "source": [
    "n = int(input(\"Enter a positive integer: \"))\n",
    "\n",
    "# Variables initialization\n",
    "factorial = 1  # Set the factorial to 1\n",
    "i = 1          # Initialize a counter\n",
    "\n",
    "# Calculate the factorial of n adopting a while loop\n",
    "while i <= n:\n",
    "    factorial *= i\n",
    "    i += 1\n",
    "print(f\"The factorial of {n} is {factorial}\")\n",
    "\n",
    "\n",
    "\n",
    "# test cases\n",
    "# n = 17, Output: 355687428096000\n",
    "# n = 13, Output: 6227020800"
   ]
  },
  {
   "cell_type": "markdown",
   "metadata": {
    "id": "ZQ5SVMq6D04w"
   },
   "source": [
    "## 3. Functions\n",
    "\n",
    "(10 points) Write a function that determines if a number is prime."
   ]
  },
  {
   "cell_type": "code",
   "execution_count": null,
   "metadata": {
    "id": "6rGP5G3_D04x",
    "colab": {
     "base_uri": "https://localhost:8080/"
    },
    "outputId": "00df2d17-b697-4146-968f-be4fa7cc3ba3"
   },
   "outputs": [
    {
     "output_type": "stream",
     "name": "stdout",
     "text": [
      "True\n",
      "False\n",
      "True\n"
     ]
    }
   ],
   "source": [
    "def is_prime(n):\n",
    "    if n <= 1:\n",
    "        return False  # Prime numbers must be greater than 1\n",
    "\n",
    "    # Checking the divisibility from 2 to the square root of the number\n",
    "    for i in range(2, int(n**0.5) + 1):\n",
    "        if n % i == 0:   # Checking the remainder\n",
    "            return False  # The number is not prime as it is divisible by i\n",
    "\n",
    "    return True  # There were no divisors, thus the number is prime\n",
    "\n",
    "# Checking the function\n",
    "while True:\n",
    "    try:\n",
    "        number = int(input(\"Enter a number: \"))\n",
    "        if number < 0:\n",
    "            print(\"Prime number must be a positive integer.\")\n",
    "        elif is_prime(number):\n",
    "            print(f\"{number} is a prime number.\")\n",
    "        else:\n",
    "            print(f\"{number} is not a prime number.\")\n",
    "        break  # Exit the loop if input is valid and processed\n",
    "    except ValueError:\n",
    "        print(\"Invalid input. Please enter an integer.\")\n",
    "\n",
    "\n",
    "# test cases\n",
    "print(is_prime(2))      # Output: True\n",
    "print(is_prime(10))     # Output: False\n",
    "print(is_prime(17))     # Output: True"
   ]
  },
  {
   "cell_type": "markdown",
   "metadata": {
    "id": "Z6qg-fpQD04u"
   },
   "source": [
    "## 4. List Comprehension\n",
    "\n",
    "(10 points) Write a Python function called `prime_factors` that takes a relatively small integer as input and returns a list of its distinct prime factors. The function should use list comprehension to generate the list of distinct prime factors. You may use the function is_prime() defined in Q3.\n"
   ]
  },
  {
   "cell_type": "code",
   "execution_count": null,
   "metadata": {
    "collapsed": true,
    "id": "2hSCjYlOD04v",
    "colab": {
     "base_uri": "https://localhost:8080/"
    },
    "outputId": "1024d2e2-7d24-4e65-9529-e5a82d2a3211"
   },
   "outputs": [
    {
     "output_type": "stream",
     "name": "stdout",
     "text": [
      "[2, 3, 5]\n",
      "[2, 7]\n",
      "[2, 3, 11]\n",
      "[2, 29]\n"
     ]
    }
   ],
   "source": [
    "# From Q3\n",
    "def is_prime(n):\n",
    "    if n <= 1:\n",
    "        return False  # Prime numbers must be greater than 1\n",
    "\n",
    "    # Checking the divisibility from 2 to the square root of the number\n",
    "    for i in range(2, int(n**0.5) + 1):\n",
    "        if n % i == 0:   # Checking the remainder\n",
    "            return False  # The number is not prime as it is divisible by i\n",
    "\n",
    "    return True  # There were no divisors, thus the number is prime\n",
    "\n",
    "def prime_factors(n):\n",
    "    factors = [x for x in range(2, n + 1) if n % x == 0 and is_prime(x)]\n",
    "    # It iterates through all the integers x in the range from 2 to n (inclusive) to checks two conditions (there is no remainder and being prime number)\n",
    "    return list(set(factors)) # Remove duplicate factors\n",
    "# Checking the prime_factors function\n",
    "number = int(input(\"Enter a positive integer: \"))\n",
    "factors = sorted(prime_factors(number))\n",
    "if len(factors) > 0:\n",
    "    print(f\"The distinct prime factors of {number} are: {factors}\")\n",
    "else:\n",
    "    print(f\"{number} has no distinct prime factors other than 1.\")\n",
    "\n",
    "\n",
    "\n",
    "# test cases\n",
    "print(prime_factors(30))  # Output: [2, 3, 5]\n",
    "print(prime_factors(56))  # Output: [2, 7]\n",
    "print(prime_factors(198))  # Output: [2, 3, 11]\n",
    "print(prime_factors(464))  # Output: [2, 29]"
   ]
  },
  {
   "cell_type": "markdown",
   "metadata": {
    "id": "dw4kZZCiD040"
   },
   "source": [
    "## 5. Recursive Functions\n",
    "(25 points) Write a function that uses recursion to generate the $n$th row of the Pascal's triangle.\n",
    "```\n",
    "              1\n",
    "           1     1\n",
    "        1     2     1\n",
    "      1    3     3     1\n",
    "   1    4     6     4    1\n",
    "1     5    10    10    5    1\n",
    "...\n",
    "...\n",
    "...\n",
    "```"
   ]
  },
  {
   "cell_type": "code",
   "execution_count": null,
   "metadata": {
    "id": "V8QFB_gKD040",
    "colab": {
     "base_uri": "https://localhost:8080/"
    },
    "outputId": "4946dc49-2061-4057-e65d-9f48af44dac9"
   },
   "outputs": [
    {
     "output_type": "stream",
     "name": "stdout",
     "text": [
      "[1, 5, 10, 10, 5, 1]\n"
     ]
    }
   ],
   "source": [
    "def pascal(n):\n",
    "    # The 1st and 2nd of pascal triangle are always constant\n",
    "    if n == 1:\n",
    "        return [1]  # The 1st row contains only 1\n",
    "    elif n == 2:\n",
    "        return [1, 1]  # The 2nd row contains 1 and 1\n",
    "    else:\n",
    "        # If n is neither 1 nor 2, we need to generate a row other than the 1st or 2nd row\n",
    "        previous_row = pascal(n-1)\n",
    "        # The function recursively calls itself with n-1 to generate the n-1-th row of Pascal's Triangle.\n",
    "        # The result is stored in the previous_row variable\n",
    "        row = [1]  # A new row is created, initialized with the first element, which is always 1 in Pascal's Triangle\n",
    "        for i in range(1, n-1):\n",
    "            row.append(previous_row[i - 1] + previous_row[i])  # Calculate the middle elements\n",
    "        row.append(1)  # Add the last element, which is always 1\n",
    "        return row\n",
    "\n",
    "# Checking the function to generate the 6th row of Pascal's Triangle\n",
    "n = 6\n",
    "row_6 = pascal(n)\n",
    "print(row_6)\n",
    "\n",
    "\n",
    "\n",
    "\n",
    "# test case\n",
    "print(pascal(6))  # output [1, 5, 10, 10, 5, 1]"
   ]
  },
  {
   "cell_type": "markdown",
   "metadata": {
    "id": "eZytgm0qD041"
   },
   "source": [
    "Rewrite the above function using only `while` or `for` loops instead of recursion."
   ]
  },
  {
   "cell_type": "code",
   "execution_count": null,
   "metadata": {
    "collapsed": true,
    "id": "UZ8f-akaD041",
    "colab": {
     "base_uri": "https://localhost:8080/"
    },
    "outputId": "68ec5672-a40f-493f-e725-68b7471e76bc"
   },
   "outputs": [
    {
     "output_type": "stream",
     "name": "stdout",
     "text": [
      "[1, 5, 10, 10, 5, 1]\n"
     ]
    }
   ],
   "source": [
    "def pascal_by_loops(n):\n",
    "    if n <= 0:\n",
    "        return []  # The function returns an empty list, indicating that there's no valid Pascal's Triangle row to generate.\n",
    "\n",
    "    # The function initializes the variable triangle as a list containing a single list with the element 1.\n",
    "    # This represents the first row of Pascal's Triangle\n",
    "    pascal_triangle = [[1]]\n",
    "\n",
    "    # The function enters a loop that iterates from 1 to n-1.\n",
    "    # This loop generates the subsequent rows of Pascal's Triangle\n",
    "    for _ in range(1, n):\n",
    "        previous_row = pascal_triangle[-1]\n",
    "        # Inside the loop, the code assigns the last row of Pascal_triangle (which represents the previous row of Pascal's Triangle) to the variable previous_row\n",
    "        new_row = [1]  # A new list called new_row is created and initialized with the first element, which is always 1 in Pascal's Triangle\n",
    "\n",
    "        # Another loop is used to calculate the middle elements of the new row\n",
    "        for i in range(1, len(previous_row)):\n",
    "            middle_elements = previous_row[i - 1] + previous_row[i]\n",
    "            new_row.append(middle_elements)\n",
    "\n",
    "        new_row.append(1)  # After the inner loop, the last element of the new_row list is appended, which is always 1 in Pascal's Triangle\n",
    "        pascal_triangle.append(new_row)\n",
    "\n",
    "    return pascal_triangle[-1]  # Once the loop completes (after generating all rows up to the n-th row), the function returns the n-th row of Pascal's Triangle, which is the last row in the Pascal_triangle list\n",
    "\n",
    "\n",
    "# Checking the function to generate the 6th row of Pascal's Triangle\n",
    "n = 6\n",
    "row_6 = pascal_by_loops(n)\n",
    "print(row_6)\n",
    "\n",
    "\n",
    "\n",
    "\n",
    "print(pascal_by_loops(6))"
   ]
  },
  {
   "cell_type": "markdown",
   "source": [
    "\n",
    "\n",
    "---\n",
    "\n",
    "\n",
    "（5 points) good coding practice and properly submitting your work to GitHub."
   ],
   "metadata": {
    "id": "HvHD6QHzVo9I"
   }
  }
 ],
 "metadata": {
  "anaconda-cloud": {},
  "kernelspec": {
   "display_name": "Python 3",
   "language": "python",
   "name": "python3"
  },
  "language_info": {
   "codemirror_mode": {
    "name": "ipython",
    "version": 3
   },
   "file_extension": ".py",
   "mimetype": "text/x-python",
   "name": "python",
   "nbconvert_exporter": "python",
   "pygments_lexer": "ipython3",
   "version": "3.7.4"
  },
  "colab": {
   "provenance": []
  }
 },
 "nbformat": 4,
 "nbformat_minor": 0
}
